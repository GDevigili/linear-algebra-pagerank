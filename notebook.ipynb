{
 "cells": [
  {
   "cell_type": "markdown",
   "metadata": {},
   "source": [
    "<h1>Projeto A2: PageRank</h1>\n",
    "Fundação Getúlio Vargas - Escola de Matemática Aplicada <br>\n",
    "Bacharelado em Ciência de Dados <br>\n",
    "Curso de Álgebra Linear <br>\n",
    "Professor: Yuri Fahham Saporito <br>\n",
    "Alunos: Gianlucca Devigili e Maisa O. Fraiz"
   ]
  },
  {
   "cell_type": "markdown",
   "metadata": {},
   "source": [
    "## 1. Introdução\n",
    "O presente trabalho aborda o algoritmo _PageRank,_ desenvolvido por Sergey Bin e Larry Page em 1996 para a organização do sistema de buscas do _Google,_ o qual são fundadores. O trabalho tem como objetivo explicar o que é o _PageRank,_ como calcular essa métrica usando álgebra linear e como ela pode ser aplicada nas mais diversas áreas de pesquisa. <br>\n",
    "Por meio da implementação de uma adaptação do algoritmo, também busca calcular uma possível relevância das fronteiras dos estados dos EUA em um grafo não direcional das mesmas. Para tal, é feito o uso da linguagem de programação _Python_ e suas bibliotecas, tais como _networkx_ para gerar o grafo e _matplotlib_ para a visualização do mesmo."
   ]
  },
  {
   "cell_type": "markdown",
   "metadata": {},
   "source": [
    "## 2. O algoritmo _PageRank_\n",
    "O _PageRank_ é um algoritmo criado por Sergey Brin e Larry Page, fundadores da multinacional _Google,_ em 1996. Ele foi criado com a função de servir como uma métrica para estimar a importância das páginas na internet, organizando o sistema de busca de forma que os resultados mais relevantes apareçam primeiro para o usuário. De acordo com Google (2020), o a relevância de uma página é calculada, dentre diversos outros fatores decorridos da sofisticação do algoritmo, através da relevância das páginas que possuem links que apontem para ela.<br>\n",
    "\n",
    "O cálculo do _PageRank_ se dá por meio de quantos _links_ existentes se conectam para uma página P qualquer. Cada página $P_j$ contém $L_j$ _links._ Se um _link_ de $P_j$ redireciona para $P_i$ , então $P_i$ receberá $\\frac{1}{L_j}$ do PageRank de $P_j$. Considere $B_i$ como o conjunto de páginas cujos _links_ redirecionam para $P_i$. O PageRank de $P_i$ será: \n",
    "\n",
    "$$PR(Pi) = \\sum_{Pj \\in Bi}^{} \\frac{PR(Pj)}{Lj}$$\n",
    "\n",
    "Para calcular o _PageRank_ usando Álgebra Linear, é criada uma matriz $A$ tal que cada entrada $A_{ij}$ será $\\frac{1}{L_j}$ se $P_j$ tiver um _link_ que redirecione para $P_i$. Se $P_j$ e $P_i$ não forem conectados, $A_{ij}$ será nulo. Enquanto $P_j$ conter pelo menos um _link,_ $A$ será uma matriz de Markov. O _PageRank_ pode ser calculado descobrindo o autovetor estacionário de $A$, ou seja, o vetor $I$ tal que $AI=I$. (AUSTIN, 2006).\n",
    "<br>\n",
    "<br>\n",
    "### 2.1. Exemplo com grafo simplificado\n",
    "\n",
    "Utilizaremos aqui o exemplo dado por Austin (2006). Imagine que existem apenas 8 páginas representadas pelo seguinte grafo:<br>\n",
    "\n",
    "Figura 1: Grafo Exemplo <br>\n",
    "<center><img src=\"img/sample_graph.jpg\"/> <br></center>\n",
    "<center>Fonte: Dados Primários, 2020</center>\n",
    "Cada nó (vértice) do grafo é uma página e cada aresta indica um link entre duas páginas. A matriz relacionada ao exemplo é: <br>\n",
    "<br>\n",
    "$$A = \\begin{bmatrix} 0 & 0 & 0 & 0 & 0 & 0 & 1/3 & 0\\\\1/2 & 0 & 1/2 & 1/3 & 0 & 0 & 0 & 0\\\\1/2 & 0 & 0 & 0 & 0 & 0 & 0 & 0\\\\0 & 1 & 0 & 0 & 0 & 0 & 0 & 0\\\\0 & 0 & 1/2 & 1/3 & 0 & 0 & 1/3 & 0\\\\0 & 0 & 0 & 1/3 & 1/3 & 0 & 0 & 1/2\\\\0 & 0 & 0 & 0 & 1/3 & 0 & 0 & 1/2\\\\0 & 0 & 0 & 0 & 1/3 & 1 & 1/3 & 0\\end{bmatrix}$$\n",
    "\n",
    "que tem como vetor estácionário (pageranks):\n",
    "$$I = \\begin{bmatrix} 0.0600\\\\0.0675\\\\0.0300\\\\0.0675\\\\0.0975\\\\0.2025\\\\0.1800\\\\0.2950\\end{bmatrix}$$\n",
    "<br>\n",
    "No exemplo, o página 8 tem uma relevância maior, ou seja, em um algoritmo de pesquisa consideraria ela mais relevante e apareceria por primeiro, sendo seguida pela página 6 e assim por diante.\n",
    "<br>\n",
    "<br>\n",
    "### 2.2. Possíveis problemas\n",
    "No caso da coluna $A_j$ conter apenas valores nulos, significa que o vértice $P_j$ é um nó pendente. Também é possível haver um conjunto de páginas que formem um ciclo de links entre si, de forma que vez que o usuário entra nelas, não é possível sair. Em ambos dos casos, o cálculo do _PageRank_ falha.<br>\n",
    "<br>\n",
    "<br>\n",
    "Figura 2: Grafo com Erros no _PageRank_ <br>\n",
    "<center><img src=\"img/sample_graph2.jpg\"><br></center>\n",
    "<center>Fonte: AUSTIN, 2006</center>\n",
    "<br>\n",
    "<br>\n",
    "Esse problema pode ser resolvido escolhendo um valor $0 ≤ α ≤ 1$ que determina a probabilidade de, ao percorrer o grafo, ser redirecionado para uma nó qualquer, independentemente das ligações. Quanto mais próximo $α$ for de $1$, mais peso têm as ligações e mais tempo levará o processo para descobrir o autovetor. <br>\n",
    "A Google usa $α = 0.85$, levando entre $50$ e $100$ iterações do método de potencialização para achar valores de PageRank satisfatoriamente aproximados.\n",
    "<br>\n",
    "<br>\n",
    "### 2.3. Outras Aplicações\n",
    "O PageRank também é muito utilizado fora da Google, como na medicina, no desenvolvimento de _softwares,_ no esporte e na bibliometria. Dentre algumas aplicações do PageRank, Gleich (2014), Miller (2020) e Austin (2006) citam:\n",
    "\n",
    "+ Utilizando $\\alpha = 0.92$ em uma rede de interações de proteínas, o _PageRank_ pode ser usado para descobrir quais genes estão relacionados com a diabetes tipo 2;\n",
    "\n",
    "+ Estudos acerca de um tipo de câncer pancreático, que encontram genes que preveem se o paciente sobreviveria à doença com um pagerank utilizando $\\alpha = 0.3$;\n",
    "\n",
    "+ Algoritmo ***Monitor Rank:*** ao retornar uma lista ordenada dos possíveis responsáveis por um erro na programação, utilizado por administradores de sistemas para o diagnóstico e solução de erros;\n",
    "\n",
    "+ Dados geográfico como prever tráfego e movimento humano utilizando um grafo onde as ruas são representadas por arestas e suas intersecções por vértices. Neste caso $\\alpha$ é gerado a cada iteração de acordo com a probabilidade da viagem acabar em determinada rua. Tal tipo de aplicação é usado em softwares de transporte urbano que fazem uso de GPS;\n",
    "\n",
    "+ Criar uma rede de vencedores em esporte, onde cada time é um nó e cada jogo é uma linha. Em uma partida entre dois times, $A$ e $B$, o time que ganha passa seus pontos para o outro;\n",
    "\n",
    "+ Pode ser usado para medir a influência de revistas científicas e artigos com base nas citações entre elas;\n",
    "\n",
    "+ Algoritmo ***ItemRank***: utilizado para recomendar itens como produtos em _e-commerces_ ou filmes e séries em plataformas de _streaming;_\n",
    "\n",
    "+ Em redes sociais, o _PageRank_ pode ser usado para prever potenciais conexões e amizades entre usuários, recomendar perfis a serem seguidos e estimar a influência dos usuários;\n",
    "\n",
    "+ Também existem o ***TrustRank*** e ***BadRank***, que analisam a possibilidade de um site estar abusando de spam para aumentar o seu _pagerank,_ tais algoritmos são utilizados pelo _Google_ e outros sistemas de pesquisa para evitar relatarem como relevantes página."
   ]
  },
  {
   "cell_type": "markdown",
   "metadata": {},
   "source": [
    "## 3. Implementação\n",
    "<p> Para a implementação do algoritmo PageRank utilizada no presente trabalho foi utilizado um grafo não direcionado onde cada nó (vértice) representa um dos estados dos EUA e a existência de uma aresta entre dois nós indica que os dois estados fazem fronteira entre si. </p>"
   ]
  },
  {
   "cell_type": "code",
   "execution_count": 1,
   "metadata": {},
   "outputs": [],
   "source": [
    "import re, sys, math, csv, types\n",
    "import networkx as nx\n",
    "import matplotlib.pyplot as plt\n",
    "import plotly.graph_objects as go"
   ]
  },
  {
   "cell_type": "markdown",
   "metadata": {},
   "source": [
    "A implementação do algoritmo _PageRank_ no presente trabalho é uma adaptação de Asp (2015) para grafos não direcionados. Utilizamos o dataset _\"stateborders.csv\"_ que contém todos os estados dos EUA e suas respectivas fronteiras, onde a primeira e terceira coluna indicam uma aresta do grafo que representa o país<sup>1</sup>. Abaixo seguem as primeiras 10 linhas de amostra para visualização:<br><br>\n",
    "\n",
    "<sup>1</sup>. O _dataset_ se encontra dessa maneira pois o algoritmo de Asp (2015) é utilizado para calcular o _pagerank_ de outros datasets que fazem uso da segunda e da quarta coluna.\n"
   ]
  },
  {
   "cell_type": "code",
   "execution_count": 2,
   "metadata": {},
   "outputs": [
    {
     "name": "stdout",
     "output_type": "stream",
     "text": [
      "['AL', '0', 'FL', '0']\n",
      "['AL', '0', 'GA', '0']\n",
      "['AL', '0', 'MS', '0']\n",
      "['AL', '0', 'TN', '0']\n",
      "['AZ', '0', 'CA', '0']\n",
      "['AZ', '0', 'NM', '0']\n",
      "['AZ', '0', 'NV', '0']\n",
      "['AZ', '0', 'UT', '0']\n",
      "['AR', '0', 'LA', '0']\n",
      "['AR', '0', 'MS', '0']\n"
     ]
    }
   ],
   "source": [
    "filename = \"stateborders.csv\"\n",
    "file = csv.reader(open(filename, 'r'), delimiter = ',')\n",
    "data = [row for row in file]\n",
    "for i_row in range(10):\n",
    "    print(data[i_row])"
   ]
  },
  {
   "cell_type": "markdown",
   "metadata": {},
   "source": [
    "O grafo foi gerado com o _package networkx_ onde cada vértice representa um estados e a existência de uma aresta $uv$ indica que o estado $u$ faz fronteira com o estado $v$. O grafo gerado não é direcionado, como o habitual em parte das aplicações do _pagerank_ pois trata-se de dados geográficos, ou seja,o estado $u$ ter fronteira com o estado $v$ implica que $v$ faz fronteira com $u$. Uma aplicação análoga é a rede de amigos do _Facebook._ <br><br>"
   ]
  },
  {
   "cell_type": "code",
   "execution_count": 3,
   "metadata": {},
   "outputs": [
    {
     "name": "stdout",
     "output_type": "stream",
     "text": [
      "Nós do grafo: {'KY', 'ID', 'MS', 'NE', 'ND', 'SC', 'WV', 'OH', 'TX', 'KS', 'LA', 'FL', 'WY', 'OR', 'NV', 'AL', 'GA', 'WA', 'CO', 'VT', 'NY', 'SD', 'CT', 'CA', 'NJ', 'ME', 'TN', 'AR', 'NM', 'DC', 'MD', 'MO', 'NH', 'VA', 'WI', 'RI', 'DE', 'UT', 'AZ', 'IA', 'IN', 'MT', 'OK', 'MN', 'PA', 'MA', 'MI', 'NC', 'IL'}\n"
     ]
    }
   ],
   "source": [
    "nodes = set([row[0] for row in data])\n",
    "print(f'Nós do grafo: {nodes}', sep=\" \")"
   ]
  },
  {
   "cell_type": "code",
   "execution_count": 4,
   "metadata": {},
   "outputs": [
    {
     "name": "stdout",
     "output_type": "stream",
     "text": [
      "Exemplos de Aresta: ('AL', 'FL'), ('AL', 'GA'), ('AL', 'MS'), ('AL', 'TN'), ('AZ', 'CA'), ('AZ', 'NM'), ('AZ', 'NV'), ('AZ', 'UT'), ('AR', 'LA'), ('AR', 'MS'), "
     ]
    }
   ],
   "source": [
    "edges = [(row[0], row[2]) for row in data]\n",
    "print(\"Exemplos de Aresta: \", end= \"\")\n",
    "for i_edge in range(10):\n",
    "    print(edges[i_edge], end=\", \")"
   ]
  },
  {
   "cell_type": "markdown",
   "metadata": {},
   "source": [
    "Figura 3: Estrutura de grafo dos estados dos EUA <br>\n",
    "<center><img src=\"img/usa_graph.gif\" style=\"border: 0 auto;\"/><br></center>\n",
    "<center>Fonte: WEISSTEIN, 201-</center>\n",
    "<br><br>\n",
    "Os Estados do Alaska e Havaí foram removidos pois não possuem _\"links\"_ com os demais estados, o que geraria erro no algoritmo como explicado anteriormente"
   ]
  },
  {
   "cell_type": "markdown",
   "metadata": {},
   "source": [
    "Então calculamos o valor base de cada rank com a razão:\n",
    "$$\\frac{1}{|V(G)|}$$\n",
    "onde $|V(G)|$ é o número de nós do grafo. No presente exemplo o rank base de cada nó é:"
   ]
  },
  {
   "cell_type": "code",
   "execution_count": 5,
   "metadata": {},
   "outputs": [
    {
     "name": "stdout",
     "output_type": "stream",
     "text": [
      "0.02040816326530612\n"
     ]
    }
   ],
   "source": [
    "rank = 1/float(len(nodes))\n",
    "print(f'{rank}')"
   ]
  },
  {
   "cell_type": "code",
   "execution_count": 6,
   "metadata": {},
   "outputs": [
    {
     "data": {
      "image/png": "[encoded data removed]",
      "text/plain": [
       "<Figure size 432x288 with 1 Axes>"
      ]
     },
     "metadata": {},
     "output_type": "display_data"
    }
   ],
   "source": [
    "graph = nx.Graph()\n",
    "graph.add_nodes_from(nodes, rank=rank)\n",
    "graph.add_edges_from(edges)\n",
    "nx.draw_spring(graph, with_labels =  True, alpha = 0.8)"
   ]
  },
  {
   "cell_type": "markdown",
   "metadata": {},
   "source": [
    "### 3.1. O Algoritmo em _python_\n",
    "\n",
    "O cálculo do _pagerank_ é dado pelo seguinte algoritmo em _python:_"
   ]
  },
  {
   "cell_type": "code",
   "execution_count": 7,
   "metadata": {},
   "outputs": [],
   "source": [
    "V = len(graph) \n",
    "alpha = 0.85"
   ]
  },
  {
   "cell_type": "markdown",
   "metadata": {},
   "source": [
    "Utilizamos $\\alpha = 0.85$, o mesmo utilizado pelo _Google,_ de modo a evitar um _loop_."
   ]
  },
  {
   "cell_type": "code",
   "execution_count": 8,
   "metadata": {
    "tags": []
   },
   "outputs": [
    {
     "data": {
      "text/plain": [
       "[('MO', 0.0315771412775698),\n",
       " ('KY', 0.031067896293299854),\n",
       " ('TN', 0.031058509939360428),\n",
       " ('MA', 0.0286732706671126),\n",
       " ('PA', 0.026872000240915704),\n",
       " ('MD', 0.02667225082531666),\n",
       " ('GA', 0.026244091037310922),\n",
       " ('NY', 0.02606523828313355),\n",
       " ('SD', 0.02593368857842075),\n",
       " ('WY', 0.025713246689327465),\n",
       " ('IA', 0.025503159256626648),\n",
       " ('CO', 0.025298171749271164),\n",
       " ('ID', 0.02510499447534387),\n",
       " ('VA', 0.025051426291786118),\n",
       " ('AR', 0.023258083447774712),\n",
       " ('OK', 0.022328740382571648),\n",
       " ('NV', 0.02169859200056445),\n",
       " ('NB', 0.021462370926652284),\n",
       " ('NE', 0.02144870658728615),\n",
       " ('OH', 0.021091223262018295),\n",
       " ('WV', 0.020941539230207022),\n",
       " ('TX', 0.02035526794617019),\n",
       " ('NH', 0.020284686703420284),\n",
       " ('UT', 0.02011980670612335),\n",
       " ('IL', 0.019488115836470792),\n",
       " ('OR', 0.01870699805824562),\n",
       " ('KS', 0.01822801336480884),\n",
       " ('AL', 0.018043210579888627),\n",
       " ('VT', 0.01797738325168396),\n",
       " ('NC', 0.017955559262623086),\n",
       " ('CT', 0.01768558165204955),\n",
       " ('AZ', 0.017593815549587256),\n",
       " ('MS', 0.01712770731584521),\n",
       " ('IN', 0.017013279191891623),\n",
       " ('WI', 0.016713203745370078),\n",
       " ('MT', 0.016475418102944235),\n",
       " ('MN', 0.016444922398000373),\n",
       " ('NM', 0.016373197711261677),\n",
       " ('NJ', 0.015385655533724155),\n",
       " ('DE', 0.014881149542499148),\n",
       " ('CA', 0.014344259241949375),\n",
       " ('MI', 0.013693562049299456),\n",
       " ('LA', 0.013331966874561996),\n",
       " ('ND', 0.01308101357690253),\n",
       " ('RI', 0.012821574273799423),\n",
       " ('FL', 0.010482035006529635),\n",
       " ('WA', 0.010472954441972477),\n",
       " ('SC', 0.010464826249464442),\n",
       " ('DC', 0.010258044894149882),\n",
       " ('MV', 0.010020709318671205),\n",
       " ('ME', 0.008682865070264053)]"
      ]
     },
     "execution_count": 8,
     "metadata": {},
     "output_type": "execute_result"
    }
   ],
   "source": [
    "ranks = {}\n",
    "\n",
    "for key, node in graph.nodes(data=True):\n",
    "    ranks[key] = node.get(\"rank\") #atribui o valor inicial de 0.02040816326530612 a todos os vértices\n",
    "\n",
    "for i in range(10): # itera 10 vezes, algoritmos como o do Google realizam entre 50 e 100 iterações\n",
    "    for key, node in graph.nodes(data=True): \n",
    "        rank_sum = 0\n",
    "        curr_rank = node.get('rank')\n",
    "\n",
    "        neighbors = graph[key]\n",
    "        for n in neighbors:\n",
    "            if ranks[n] is not None:\n",
    "                outlinks = len(list(graph.neighbors(n)))\n",
    "                rank_sum += (1 / float(outlinks)) * ranks[n]\n",
    "\n",
    "        ranks[key] = ((1 - float(alpha)) * (1/float(V))) + alpha * rank_sum\n",
    "\n",
    "sorted(ranks.items(), key = lambda x : x[1], reverse = True)"
   ]
  },
  {
   "cell_type": "markdown",
   "metadata": {},
   "source": [
    "## 4.  Conclusão\n",
    "O algoritmo _PageRank_ é de suma importância para diversos tipos de software, em especial sistemas de recomendação e mecanismos de pesquisa. Contudo, como todo algoritmo, está suscetível a falhas, principalmente as induzidas como _websites_ de _spam_ que aumentavam o _pagerank_ de outros, portanto sozinho ele pode não ser efetivo. Também há a questão de que, em determinados contextos, o maior _pagerank_ pode não ser o resultado mais relevante para determinado usuário.\n",
    "\n",
    "<br>Tabela 1: Os 5 estados com o maior _pagerank_\n",
    "<table>\n",
    "    <th>\n",
    "    Estado<td> Pagerank </td>\n",
    "    </th>\n",
    "    <tr>\n",
    "    <td>Missouri</td><td>0.03154419141589557</td>\n",
    "    </tr>\n",
    "    <tr>\n",
    "    <td>Kentucky</td><td>0.03107864029675898</td>\n",
    "    </tr>\n",
    "    <tr>\n",
    "    <td>Tennessee</td><td>0.031062265257940133</td>\n",
    "    </tr>\n",
    "    <tr>\n",
    "    <td>Massachusetts</td><td>0.028718919537401348</td>\n",
    "    </tr>\n",
    "    <tr>\n",
    "    <td>Pensilvânia</td><td>0.026872163950321677</td>\n",
    "    </tr>\n",
    "</table><br>\n",
    "<center>Fonte: Dados Primários, 2020.<br></center>\n",
    "\n",
    "<br>Quanto aos resultados da implementação, os 5 maiores pageranks, representados na tabela 1 são referentes a estados centralizados com uma grande densidade urbana, como o esperado. Também é importante ressaltar que Missouri, Kentucky e Tennessee são estados que possuem fronteiras entre si,\n",
    "como se pode observar na figura 4, evidenciando a característica do _pagerank_ de analisar não apenas a própria relevância de um nó mas sim a relevância de seus _links_.\n",
    "\n",
    "Figura 4: Os 5 estados com o Maior _pagerank_ <br>\n",
    "<center><img src=\"img/us_map.png\"> <br></center>\n",
    "<center>Fonte: Dados Primários, 2020</center>"
   ]
  },
  {
   "cell_type": "markdown",
   "metadata": {},
   "source": [
    "## Referências\n",
    "\n",
    "AUSTIN, David. **How Google Finds Your Needle in the Web's Haystack. American Mathematical Society**, 2006. Disponível em: http://www.ams.org/publicoutreach/feature-column/fcarc-pagerank. Acesso em: 14 nov. 2020. <br>\n",
    "\n",
    "ASP, Timothy. **PageRank.** 2015. Disponível em: https://github.com/timothyasp/PageRank. Acesso em: 18 nov. 2020.<br>\n",
    "\n",
    "GLEICH, David F. **PAGERANK BEYOND THE WEB**. 2014. Disponível em: https://arxiv.org/pdf/1407.5107.pdf. Acesso em: 16 nov. 2020.\n",
    "\n",
    "GOOGLE. **Como funcionam os algoritmos da Pesquisa:** classificar páginas úteis. Classificar páginas úteis. Disponível em: https://www.google.com/search/howsearchworks/algorithms/. Acesso em: 14 nov. 2020. <br>\n",
    "\n",
    "MILLER, Colton. **A HISTORY LESSON ON PAGERANK**. 2020. Disponível em: https://www.boostability.com/a-history-lesson-on-pagerank/#:~:text=Google%20founders%20Larry%20Page%20and,backbone%20behind%20Google%20search%20results. Acesso em: 14 nov. 2020.\n",
    "\n",
    "WEISSTEIN, Eric W. **Contiguous USA Graph.** 201-. Disponível em: https://mathworld.wolfram.com/ContiguousUSAGraph.html. Acesso em: 21 nov. 2020. <br>"
   ]
  }
 ],
 "metadata": {
  "kernelspec": {
   "display_name": "Python 3",
   "language": "python",
   "name": "python3"
  },
  "language_info": {
   "codemirror_mode": {
    "name": "ipython",
    "version": 3
   },
   "file_extension": ".py",
   "mimetype": "text/x-python",
   "name": "python",
   "nbconvert_exporter": "python",
   "pygments_lexer": "ipython3",
   "version": "3.8.5"
  }
 },
 "nbformat": 4,
 "nbformat_minor": 2
}
