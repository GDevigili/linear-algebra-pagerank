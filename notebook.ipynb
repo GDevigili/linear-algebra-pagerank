{
 "metadata": {
  "language_info": {
   "codemirror_mode": {
    "name": "ipython",
    "version": 3
   },
   "file_extension": ".py",
   "mimetype": "text/x-python",
   "name": "python",
   "nbconvert_exporter": "python",
   "pygments_lexer": "ipython3",
   "version": "3.7.6-final"
  },
  "orig_nbformat": 2,
  "kernelspec": {
   "name": "python3",
   "display_name": "Python 3"
  }
 },
 "nbformat": 4,
 "nbformat_minor": 2,
 "cells": [
  {
   "source": [
    "<h1>Pagerank</h1>\n",
    "<br>\n",
    "Fundação Getúlio Vargas - Escola de Matemática Aplicada <br>\n",
    "Bacharelado em Ciência de Dados <br>\n",
    "Curso de Álgebra Linear <br>\n",
    "Professor: Yuri Fahham Saporito <br>\n",
    "Alunos: Gianlucca Devigili e Maisa O. Fraiz"
   ],
   "cell_type": "markdown",
   "metadata": {}
  },
  {
   "source": [
    "## Implementação do Pagerank\n",
    "<p> Para a implementação do algoritmo de pagerank utilizada no presente trabalho foi utilizado um grafo não direcionado onde cada nó (vértice) representa um dos Estados dos EUA e a existência de uma aresta entre dois nós indica que os dois estados fazem fronteira entre si. </p>\n",
    "<p> Foram removidos os Estados do Havaí e do Alaska pois, como estes não possuem fronteiras com os demais Estados, o grafo seria desconexo caso estes estivesse inclusos, gerando assim colunas preenchidas inteiramente por zeros na matriz, impossibilitando o cálculo do pagerank"
   ],
   "cell_type": "markdown",
   "metadata": {}
  },
  {
   "cell_type": "code",
   "execution_count": 25,
   "metadata": {},
   "outputs": [],
   "source": [
    "import re, sys, math, csv, types\n",
    "import random as rd\n",
    "import networkx as nx\n",
    "from collections import defaultdict\n",
    "import operator\n",
    "import matplotlib.pyplot as plt\n",
    "import pandas as pd\n",
    "#from utils import parse, print_results #Acho que devo remover essa linha\n"
   ]
  },
  {
   "cell_type": "code",
   "execution_count": 23,
   "metadata": {},
   "outputs": [
    {
     "output_type": "stream",
     "name": "stdout",
     "text": [
      "['AL', '0', 'FL', '0']\n['AL', '0', 'GA', '0']\n['AL', '0', 'MS', '0']\n['AL', '0', 'TN', '0']\n['AZ', '0', 'CA', '0']\n"
     ]
    }
   ],
   "source": [
    "filename = \"stateborders.csv\"\n",
    "file = csv.reader(open(filename, 'r'), delimiter = ',')\n",
    "data = [row for row in file]\n",
    "for i_row in range(5):\n",
    "    print(data[i_row])\n",
    "G = nx.Graph()"
   ]
  },
  {
   "cell_type": "code",
   "execution_count": 22,
   "metadata": {},
   "outputs": [
    {
     "output_type": "stream",
     "name": "stdout",
     "text": [
      "{'NV', 'OK', 'RI', 'TN', 'MT', 'VT', 'ND', 'ID', 'MO', 'CO', 'DC', 'WY', 'WI', 'NY', 'DE', 'IN', 'NJ', 'MN', 'SC', 'KS', 'OH', 'IL', 'NM', 'AL', 'GA', 'KY', 'CT', 'OR', 'UT', 'MI', 'VA', 'SD', 'PA', 'NE', 'IA', 'LA', 'MA', 'WA', 'TX', 'AZ', 'CA', 'WV', 'MD', 'MS', 'NH', 'ME', 'NC', 'AR', 'FL'}\n"
     ]
    }
   ],
   "source": [
    "nodes = set([row[0] for row in data])\n",
    "print(nodes, sep=\" \")"
   ]
  },
  {
   "cell_type": "code",
   "execution_count": 36,
   "metadata": {},
   "outputs": [
    {
     "output_type": "stream",
     "name": "stdout",
     "text": [
      "('AL', 'FL'), ('AL', 'GA'), ('AL', 'MS'), ('AL', 'TN'), ('AZ', 'CA'), ('AZ', 'NM'), ('AZ', 'NV'), ('AZ', 'UT'), ('AR', 'LA'), ('AR', 'MS'), ('AR', 'TX'), ('AR', 'OK'), ('AR', 'MO'), ('AR', 'TN'), ('CA', 'OR'), "
     ]
    }
   ],
   "source": [
    "edges = [(row[0], row[2]) for row in data]\n",
    "for i_edge in range(10):\n",
    "    print(edges[i_edge], end=\", \")"
   ]
  },
  {
   "cell_type": "code",
   "execution_count": null,
   "metadata": {},
   "outputs": [],
   "source": [
    "\"\"\"\n",
    "def parse(filename):\n",
    "    \n",
    "    file = csv.reader(open(filename, 'r'), delimiter=',')\n",
    "    data = [row for row in file]\n",
    "    \n",
    "    print(\"Reading data\")\n",
    "    \n",
    "    G = nx.Graph()                                          \n",
    "    nodes = set([row[0] for row in data])                   # (1)-->\n",
    "    edges = [(row[0], row[2]) for row in data]              # (2)-->\n",
    "\n",
    "    nbr_of_nodes = len(nodes)\n",
    "    rank = 1/float(nbr_of_nodes)                                   # (3)-->\n",
    "\n",
    "    G.add_nodes_from(nodes, rank=rank)\n",
    "    G.add_edges_from(edges)\n",
    "    \n",
    "    return G\n",
    "\"\"\""
   ]
  }
 ]
}